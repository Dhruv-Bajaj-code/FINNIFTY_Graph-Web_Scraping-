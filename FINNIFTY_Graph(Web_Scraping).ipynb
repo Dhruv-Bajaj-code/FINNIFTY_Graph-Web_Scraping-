{
  "nbformat": 4,
  "nbformat_minor": 0,
  "metadata": {
    "colab": {
      "provenance": [],
      "authorship_tag": "ABX9TyNvCuZwgnPGSceUlxlFqEeZ",
      "include_colab_link": true
    },
    "kernelspec": {
      "name": "python3",
      "display_name": "Python 3"
    },
    "language_info": {
      "name": "python"
    }
  },
  "cells": [
    {
      "cell_type": "markdown",
      "metadata": {
        "id": "view-in-github",
        "colab_type": "text"
      },
      "source": [
        "<a href=\"https://colab.research.google.com/github/Dhruv-Bajaj-code/FINNIFTY_Graph-Web_Scraping-/blob/main/FINNIFTY_Graph(Web_Scraping).ipynb\" target=\"_parent\"><img src=\"https://colab.research.google.com/assets/colab-badge.svg\" alt=\"Open In Colab\"/></a>"
      ]
    },
    {
      "cell_type": "code",
      "source": [
        "from urllib.request import urlopen\n",
        "from bs4 import BeautifulSoup\n",
        "import smtplib"
      ],
      "metadata": {
        "id": "a4KDrBq-2dPq"
      },
      "execution_count": 1,
      "outputs": []
    },
    {
      "cell_type": "code",
      "source": [
        "import matplotlib.pyplot as plt\n",
        "from google.colab import output\n",
        "import os\n",
        "x=0\n",
        "list1 = []\n",
        "list2 = []\n",
        "while True:\n",
        "\n",
        "\n",
        "  url = \"https://www.google.com/finance/quote/NIFTY_FIN_SERVICE:INDEXNSE?sa=X&ved=2ahUKEwiI1cSU2fH_AhV6aGwGHVdcB-YQ3ecFegQIGBAf\"\n",
        "  page = urlopen(url)\n",
        "  html_bytes = page.read()\n",
        "  html = html_bytes.decode(\"utf-8\")\n",
        "  soup=BeautifulSoup(html)\n",
        "  price = soup.find(\"div\",attrs={\"class\":\"fxKbKc\"}).decode_contents()\n",
        "\n",
        "  price = price.replace(\",\", \"\")\n",
        "\n",
        "  # price = int(price[1,-1])\n",
        "  list1.append(float(price))\n",
        "  x = x + 1\n",
        "  list2.append(x)\n",
        "  output.clear()\n",
        "  plt.plot(list2[:-1], list1[:-1])\n",
        "  plt.show()\n",
        "  print(list2,list1)\n",
        "  time.sleep(5)\n"
      ],
      "metadata": {
        "colab": {
          "base_uri": "https://localhost:8080/",
          "height": 646
        },
        "id": "yzZ1j1Td5nxe",
        "outputId": "c0a3633b-f43d-426f-aa37-c936e047352d"
      },
      "execution_count": 2,
      "outputs": [
        {
          "output_type": "display_data",
          "data": {
            "text/plain": [
              "<Figure size 640x480 with 1 Axes>"
            ],
            "image/png": "[encoded data removed]"
          },
          "metadata": {}
        },
        {
          "output_type": "stream",
          "name": "stdout",
          "text": [
            "[1, 2, 3, 4, 5] [20212.05, 20212.05, 20211.2, 20211.2, 20212.95]\n"
          ]
        },
        {
          "output_type": "error",
          "ename": "KeyboardInterrupt",
          "evalue": "ignored",
          "traceback": [
            "\u001b[0;31m---------------------------------------------------------------------------\u001b[0m",
            "\u001b[0;31mKeyboardInterrupt\u001b[0m                         Traceback (most recent call last)",
            "\u001b[0;32m<ipython-input-2-a8aa176c98c9>\u001b[0m in \u001b[0;36m<cell line: 7>\u001b[0;34m()\u001b[0m\n\u001b[1;32m     25\u001b[0m   \u001b[0mplt\u001b[0m\u001b[0;34m.\u001b[0m\u001b[0mshow\u001b[0m\u001b[0;34m(\u001b[0m\u001b[0;34m)\u001b[0m\u001b[0;34m\u001b[0m\u001b[0;34m\u001b[0m\u001b[0m\n\u001b[1;32m     26\u001b[0m   \u001b[0mprint\u001b[0m\u001b[0;34m(\u001b[0m\u001b[0mlist2\u001b[0m\u001b[0;34m,\u001b[0m\u001b[0mlist1\u001b[0m\u001b[0;34m)\u001b[0m\u001b[0;34m\u001b[0m\u001b[0;34m\u001b[0m\u001b[0m\n\u001b[0;32m---> 27\u001b[0;31m   \u001b[0mtime\u001b[0m\u001b[0;34m.\u001b[0m\u001b[0msleep\u001b[0m\u001b[0;34m(\u001b[0m\u001b[0;36m5\u001b[0m\u001b[0;34m)\u001b[0m\u001b[0;34m\u001b[0m\u001b[0;34m\u001b[0m\u001b[0m\n\u001b[0m",
            "\u001b[0;31mKeyboardInterrupt\u001b[0m: "
          ]
        }
      ]
    },
    {
      "cell_type": "code",
      "source": [],
      "metadata": {
        "id": "cZOIL0BqH87Y"
      },
      "execution_count": null,
      "outputs": []
    }
  ]
}